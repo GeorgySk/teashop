{
 "cells": [
  {
   "cell_type": "code",
   "execution_count": 1,
   "id": "69049f2a-ba30-4a9a-a45d-31159c919df3",
   "metadata": {},
   "outputs": [],
   "source": [
    "URL = \"https://www.teashop.com/tes-rooibos-e-infusiones/\""
   ]
  },
  {
   "cell_type": "code",
   "execution_count": 6,
   "id": "20ac4cc0-b0b7-407d-8b79-d00a7c2c47df",
   "metadata": {},
   "outputs": [],
   "source": [
    "from bs4 import BeautifulSoup\n",
    "from selenium import webdriver\n",
    "from selenium.webdriver.chrome.options import Options\n",
    "from selenium.webdriver.chrome.service import Service\n",
    "from selenium.webdriver.common.by import By\n",
    "from selenium.webdriver.support import expected_conditions as EC\n",
    "from selenium.webdriver.support.wait import WebDriverWait\n",
    "from webdriver_manager.chrome import ChromeDriverManager"
   ]
  },
  {
   "cell_type": "code",
   "execution_count": 2,
   "id": "5747c272-676f-4751-9716-20508c873a4a",
   "metadata": {},
   "outputs": [],
   "source": [
    "def create_driver():\n",
    "    driver_path = ChromeDriverManager(path='.').install()\n",
    "    options = Options()\n",
    "    options.add_argument(\"--incognito\")\n",
    "    options.add_argument(\"--disable-blink-features=AutomationControlled\")\n",
    "    options.add_experimental_option(\"excludeSwitches\", [\"enable-automation\"])\n",
    "    options.add_experimental_option('useAutomationExtension', False)\n",
    "    driver = webdriver.Chrome(service=Service(driver_path),\n",
    "                              options=options)\n",
    "    driver.execute_script(\"Object.defineProperty(navigator, 'webdriver', {get: () => undefined})\")\n",
    "    driver.maximize_window()\n",
    "    return driver"
   ]
  },
  {
   "cell_type": "code",
   "execution_count": 5,
   "id": "472e243a-7564-4d12-a1bb-235c2cafa05f",
   "metadata": {},
   "outputs": [],
   "source": [
    "# accept_cookies_button_xpath = '//*[@id=\"qc-cmp2-ui\"]/div[2]/div/button[2]'\n",
    "# button = driver.find_element(by=By.XPATH, \n",
    "#                              value=accept_cookies_button_xpath)\n",
    "# button.click()"
   ]
  },
  {
   "cell_type": "code",
   "execution_count": 3,
   "id": "8822c6b1-d201-4ae1-a5e5-fd13a5a9352f",
   "metadata": {},
   "outputs": [],
   "source": [
    "def dismiss_pop_up(driver):\n",
    "    otro_dia_id = \"onesignal-slidedown-cancel-button\"\n",
    "    button = driver.find_element(By.ID, otro_dia_id)\n",
    "    button.click()"
   ]
  },
  {
   "cell_type": "code",
   "execution_count": 16,
   "id": "645567de-f3b1-4d20-a8ba-45d910d8781c",
   "metadata": {},
   "outputs": [],
   "source": [
    "def get_tea_data(driver):\n",
    "    teas = []\n",
    "    tea_index = 0\n",
    "    while True:\n",
    "        labels = driver.find_elements(By.CLASS_NAME, 'buyForm')\n",
    "        label = labels[tea_index]\n",
    "        label.click()\n",
    "        # sometimes this element never appears\n",
    "        # WebDriverWait(driver, 20).until(EC.visibility_of_element_located((By.CLASS_NAME, \"product-review-summary\"))).get_attribute(\"value\")\n",
    "        soup = BeautifulSoup(driver.page_source, 'html.parser')\n",
    "        name = soup.find(\"h1\").contents[0]\n",
    "        tags = [tag.contents[0].strip() for tag in soup.find_all(\"div\", {\"class\": \"ct-function\"})]\n",
    "        # commented due to occasionally disappearing ratings\n",
    "        # reviews_count = int(soup.find(\"span\", {\"class\": \"ts-stars-reviewCount\"}).contents[0][1:-1])  # removes parenthesis\n",
    "        # rating = float(soup.find(\"span\", {\"class\": \"ts-reviewSummary-ratingValue\"}).contents[0])\n",
    "        description = soup.find(\"div\", {\"class\": \"product-long-description\"}).get_text().strip().replace(\"\\xa0\", \" \")\n",
    "        titles = (title.contents[0] for title in soup.find_all(\"div\", {\"class\": \"title-characteristics\"}))\n",
    "        values = (title.contents[0].get_text() for title in soup.find_all(\"div\", {\"class\": \"text-characteristics\"}))\n",
    "        characteristics = dict(zip(titles, values))\n",
    "        price = float(soup.find(\"meta\", {\"itemprop\": \"price\"}).attrs['content'])\n",
    "        tea = dict(name=name,\n",
    "                   tags=tags,\n",
    "                   # reviews_count=reviews_count,\n",
    "                   # rating=rating,\n",
    "                   description=description,\n",
    "                   characteristics=characteristics,\n",
    "                   price=price)\n",
    "        teas.append(tea)\n",
    "        print(name)\n",
    "        driver.back()\n",
    "        tea_index += 1\n",
    "        if len(labels) == tea_index:\n",
    "            break\n",
    "    return teas"
   ]
  },
  {
   "cell_type": "code",
   "execution_count": 17,
   "id": "9ecd5827-e7a5-44ab-a89b-10a34c3a3f0f",
   "metadata": {
    "collapsed": true,
    "jupyter": {
     "outputs_hidden": true
    },
    "tags": []
   },
   "outputs": [
    {
     "name": "stdout",
     "output_type": "stream",
     "text": [
      "Infusión Veggie Purity\n",
      "Infusión Fresh Coconut\n",
      "Rooibos Red Velvet \n",
      "Té Oolong (azul) Azahar Oolong\n",
      "Té Verde 1001 Noches\n",
      "Infusión Apple Temptation\n",
      "Infusión Calm Moment\n",
      "Infusión Happy Pumpkin\n",
      "Infusión Tila Garden\n",
      "Rooibos Vitamin Pollen\n",
      "Té Rojo (Pu Erh) Slim PuccinoTea\n",
      "Infusión Golden Cake\n",
      "Infusión Super Moringa Red Fruits\n",
      "Infusión Valeriana Garden\n",
      "Rooibos Vanilla\n",
      "Té rojo Pu Erh Frutas del Bosque\n",
      "Infusión Magic Alkaline\n",
      "Infusión Polar Mint\n",
      "Té rojo (Pu Erh) Cinnamon Roll\n",
      "Té rojo (Pu Erh) Slim Papaya\n",
      "Té Rojo (Pu Erh) Vanilla bellini\n",
      "Té rojo Pu Erh Canela\n",
      "Té Rojo Pu Erh Chai\n",
      "Té Verde Asian Wellness\n"
     ]
    }
   ],
   "source": [
    "def scrape_tea_data(url):\n",
    "    driver = create_driver()\n",
    "    driver.get(url)\n",
    "    # dismiss_pop_up(driver)\n",
    "    teas = get_tea_data(driver)\n",
    "    driver.quit()\n",
    "    return teas\n",
    "\n",
    "URL = \"https://www.teashop.com/tes-rooibos-e-infusiones/\"\n",
    "teas = scrape_tea_data(URL)"
   ]
  }
 ],
 "metadata": {
  "kernelspec": {
   "display_name": "Python 3 (ipykernel)",
   "language": "python",
   "name": "python3"
  },
  "language_info": {
   "codemirror_mode": {
    "name": "ipython",
    "version": 3
   },
   "file_extension": ".py",
   "mimetype": "text/x-python",
   "name": "python",
   "nbconvert_exporter": "python",
   "pygments_lexer": "ipython3",
   "version": "3.10.8"
  }
 },
 "nbformat": 4,
 "nbformat_minor": 5
}
